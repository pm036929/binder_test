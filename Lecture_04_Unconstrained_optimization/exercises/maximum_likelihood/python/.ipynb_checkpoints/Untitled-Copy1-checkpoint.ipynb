{
 "cells": [
  {
   "cell_type": "code",
   "execution_count": 1,
   "metadata": {},
   "outputs": [],
   "source": [
    "import numpy as np"
   ]
  },
  {
   "cell_type": "code",
   "execution_count": 5,
   "metadata": {},
   "outputs": [],
   "source": [
    "import pandas as pd"
   ]
  },
  {
   "cell_type": "code",
   "execution_count": 23,
   "metadata": {},
   "outputs": [],
   "source": [
    "ca_houses = pd.read_csv(\"data_CA_houses.txt\", delimiter='\\t')\n",
    "ca_houses.set_index(\"ID case\", inplace=True)"
   ]
  },
  {
   "cell_type": "code",
   "execution_count": 24,
   "metadata": {},
   "outputs": [
    {
     "data": {
      "text/plain": [
       "Index(['depvar', 'ic1', 'ic2', 'ic3', 'ic4', 'ic5', 'oc1', 'oc2', 'oc3', 'oc4',\n",
       "       'oc5', 'income', 'agehed', 'rooms', 'ncost1', 'scost1', 'mountn',\n",
       "       'valley'],\n",
       "      dtype='object')"
      ]
     },
     "execution_count": 24,
     "metadata": {},
     "output_type": "execute_result"
    }
   ],
   "source": [
    "ca_houses.columns"
   ]
  },
  {
   "cell_type": "code",
   "execution_count": 31,
   "metadata": {},
   "outputs": [],
   "source": [
    "# Slice matrix ca_houses and insert into x (R ^(900x5x2))\n",
    "#   x(i, j, k)        i selects IDCASE, j selects heating solution, k IC/OC \n",
    "x = np.zeros(900, 5, 2);\n",
    "x[:, :, 1] = ca_houses.loc[:,\"ic1\":\"ic5\"].values\n",
    "x[:, :, 2] = ca_houses.loc[:,\"oc1\":\"oc5\"]\n",
    "y = ca_houses.loc[:,\"depvar\"]  #denote chosen system. y in R^(900). (unlike suggested in task)"
   ]
  },
  {
   "cell_type": "code",
   "execution_count": 31,
   "metadata": {},
   "outputs": [],
   "source": [
    "def log_likelihood(x, y, beta):\n",
    "    return sum(log(Pn(x, y, beta)));"
   ]
  },
  {
   "cell_type": "code",
   "execution_count": 33,
   "metadata": {},
   "outputs": [
    {
     "ename": "SyntaxError",
     "evalue": "invalid syntax (<ipython-input-33-58fe2899bd5a>, line 3)",
     "output_type": "error",
     "traceback": [
      "\u001b[1;36m  File \u001b[1;32m\"<ipython-input-33-58fe2899bd5a>\"\u001b[1;36m, line \u001b[1;32m3\u001b[0m\n\u001b[1;33m    [m, ~, ~] = size(x);\u001b[0m\n\u001b[1;37m         ^\u001b[0m\n\u001b[1;31mSyntaxError\u001b[0m\u001b[1;31m:\u001b[0m invalid syntax\n"
     ]
    }
   ],
   "source": [
    "def Pn(x, y, beta):\n",
    "    # calculate Pn(x_n | beta)\n",
    "    res = zeros(m,1); \n",
    "    for i in range(m):\n",
    "        beta_n  = beta'*squeeze(x(i,:, :))';    # beta * costs of all heating solutions for id i\n",
    "        betay   = beta'*squeeze(x(i,y(i), :));  # beta * costs of chosen heating solution\n",
    "        res(i)  = 1/sum(exp(beta_n-betay));     \n",
    "    \n",
    "    "
   ]
  },
  {
   "cell_type": "code",
   "execution_count": 31,
   "metadata": {},
   "outputs": [
    {
     "ename": "SyntaxError",
     "evalue": "invalid syntax (<ipython-input-31-a72d85385a22>, line 9)",
     "output_type": "error",
     "traceback": [
      "\u001b[1;36m  File \u001b[1;32m\"<ipython-input-31-a72d85385a22>\"\u001b[1;36m, line \u001b[1;32m9\u001b[0m\n\u001b[1;33m    f_obj = @(beta) - log_like(x, y, beta);\u001b[0m\n\u001b[1;37m            ^\u001b[0m\n\u001b[1;31mSyntaxError\u001b[0m\u001b[1;31m:\u001b[0m invalid syntax\n"
     ]
    }
   ],
   "source": [
    "%% Create anonymous function to handle extra parameters + negate function\n",
    "f_obj = - log_like(x, y, beta);\n",
    "\n",
    "\n",
    "%% Optimization\n",
    "options=optimset('LargeScale','off','Display','iter','GradObj','off',...\n",
    "    'MaxFunEvals',100000,'TolFun', 1e-12, 'TolX', 1e-12);\n",
    "tic \n",
    "[betahat,fval,exitflag,output,grad,hessian] = fminunc(f_obj,[-0.5;-0.4],options);\n",
    "toc"
   ]
  },
  {
   "cell_type": "code",
   "execution_count": 30,
   "metadata": {},
   "outputs": [
    {
     "data": {
      "text/plain": [
       "array([[ 866.  ,  962.64,  859.9 ,  995.76, 1135.5 ],\n",
       "       [ 727.93,  758.89,  796.82,  894.69,  968.9 ],\n",
       "       [ 599.48,  783.05,  719.86,  900.11, 1048.3 ],\n",
       "       ...,\n",
       "       [ 787.1 , 1055.2 ,  842.79, 1041.3 , 1064.8 ],\n",
       "       [ 860.56, 1081.3 ,  799.76, 1123.2 , 1218.2 ],\n",
       "       [ 893.94, 1119.9 ,  967.88, 1091.7 , 1387.5 ]])"
      ]
     },
     "execution_count": 30,
     "metadata": {},
     "output_type": "execute_result"
    }
   ],
   "source": [
    "ca_houses.loc[:,\"ic1\":\"ic5\"].values"
   ]
  },
  {
   "cell_type": "code",
   "execution_count": 19,
   "metadata": {},
   "outputs": [],
   "source": [
    "y = np.zeros(len(ca_houses))  #denote "
   ]
  },
  {
   "cell_type": "code",
   "execution_count": 27,
   "metadata": {},
   "outputs": [
    {
     "data": {
      "text/html": [
       "<div>\n",
       "<style scoped>\n",
       "    .dataframe tbody tr th:only-of-type {\n",
       "        vertical-align: middle;\n",
       "    }\n",
       "\n",
       "    .dataframe tbody tr th {\n",
       "        vertical-align: top;\n",
       "    }\n",
       "\n",
       "    .dataframe thead th {\n",
       "        text-align: right;\n",
       "    }\n",
       "</style>\n",
       "<table border=\"1\" class=\"dataframe\">\n",
       "  <thead>\n",
       "    <tr style=\"text-align: right;\">\n",
       "      <th></th>\n",
       "      <th>ic1</th>\n",
       "      <th>ic2</th>\n",
       "      <th>ic3</th>\n",
       "      <th>ic4</th>\n",
       "      <th>ic5</th>\n",
       "    </tr>\n",
       "    <tr>\n",
       "      <th>ID case</th>\n",
       "      <th></th>\n",
       "      <th></th>\n",
       "      <th></th>\n",
       "      <th></th>\n",
       "      <th></th>\n",
       "    </tr>\n",
       "  </thead>\n",
       "  <tbody>\n",
       "    <tr>\n",
       "      <th>1</th>\n",
       "      <td>866.00</td>\n",
       "      <td>962.64</td>\n",
       "      <td>859.90</td>\n",
       "      <td>995.76</td>\n",
       "      <td>1135.50</td>\n",
       "    </tr>\n",
       "    <tr>\n",
       "      <th>2</th>\n",
       "      <td>727.93</td>\n",
       "      <td>758.89</td>\n",
       "      <td>796.82</td>\n",
       "      <td>894.69</td>\n",
       "      <td>968.90</td>\n",
       "    </tr>\n",
       "    <tr>\n",
       "      <th>3</th>\n",
       "      <td>599.48</td>\n",
       "      <td>783.05</td>\n",
       "      <td>719.86</td>\n",
       "      <td>900.11</td>\n",
       "      <td>1048.30</td>\n",
       "    </tr>\n",
       "    <tr>\n",
       "      <th>4</th>\n",
       "      <td>835.17</td>\n",
       "      <td>793.06</td>\n",
       "      <td>761.25</td>\n",
       "      <td>831.04</td>\n",
       "      <td>1048.70</td>\n",
       "    </tr>\n",
       "    <tr>\n",
       "      <th>5</th>\n",
       "      <td>755.59</td>\n",
       "      <td>846.29</td>\n",
       "      <td>858.86</td>\n",
       "      <td>985.64</td>\n",
       "      <td>883.05</td>\n",
       "    </tr>\n",
       "    <tr>\n",
       "      <th>...</th>\n",
       "      <td>...</td>\n",
       "      <td>...</td>\n",
       "      <td>...</td>\n",
       "      <td>...</td>\n",
       "      <td>...</td>\n",
       "    </tr>\n",
       "    <tr>\n",
       "      <th>896</th>\n",
       "      <td>766.39</td>\n",
       "      <td>877.71</td>\n",
       "      <td>751.59</td>\n",
       "      <td>869.78</td>\n",
       "      <td>942.70</td>\n",
       "    </tr>\n",
       "    <tr>\n",
       "      <th>897</th>\n",
       "      <td>1128.50</td>\n",
       "      <td>1167.80</td>\n",
       "      <td>1047.60</td>\n",
       "      <td>1292.60</td>\n",
       "      <td>1297.10</td>\n",
       "    </tr>\n",
       "    <tr>\n",
       "      <th>898</th>\n",
       "      <td>787.10</td>\n",
       "      <td>1055.20</td>\n",
       "      <td>842.79</td>\n",
       "      <td>1041.30</td>\n",
       "      <td>1064.80</td>\n",
       "    </tr>\n",
       "    <tr>\n",
       "      <th>899</th>\n",
       "      <td>860.56</td>\n",
       "      <td>1081.30</td>\n",
       "      <td>799.76</td>\n",
       "      <td>1123.20</td>\n",
       "      <td>1218.20</td>\n",
       "    </tr>\n",
       "    <tr>\n",
       "      <th>900</th>\n",
       "      <td>893.94</td>\n",
       "      <td>1119.90</td>\n",
       "      <td>967.88</td>\n",
       "      <td>1091.70</td>\n",
       "      <td>1387.50</td>\n",
       "    </tr>\n",
       "  </tbody>\n",
       "</table>\n",
       "<p>900 rows × 5 columns</p>\n",
       "</div>"
      ],
      "text/plain": [
       "             ic1      ic2      ic3      ic4      ic5\n",
       "ID case                                             \n",
       "1         866.00   962.64   859.90   995.76  1135.50\n",
       "2         727.93   758.89   796.82   894.69   968.90\n",
       "3         599.48   783.05   719.86   900.11  1048.30\n",
       "4         835.17   793.06   761.25   831.04  1048.70\n",
       "5         755.59   846.29   858.86   985.64   883.05\n",
       "...          ...      ...      ...      ...      ...\n",
       "896       766.39   877.71   751.59   869.78   942.70\n",
       "897      1128.50  1167.80  1047.60  1292.60  1297.10\n",
       "898       787.10  1055.20   842.79  1041.30  1064.80\n",
       "899       860.56  1081.30   799.76  1123.20  1218.20\n",
       "900       893.94  1119.90   967.88  1091.70  1387.50\n",
       "\n",
       "[900 rows x 5 columns]"
      ]
     },
     "execution_count": 27,
     "metadata": {},
     "output_type": "execute_result"
    }
   ],
   "source": [
    "ca_houses.loc[:,\"ic1\":\"ic5\"]"
   ]
  },
  {
   "cell_type": "code",
   "execution_count": null,
   "metadata": {},
   "outputs": [],
   "source": []
  }
 ],
 "metadata": {
  "kernelspec": {
   "display_name": "Python 3",
   "language": "python",
   "name": "python3"
  },
  "language_info": {
   "codemirror_mode": {
    "name": "ipython",
    "version": 3
   },
   "file_extension": ".py",
   "mimetype": "text/x-python",
   "name": "python",
   "nbconvert_exporter": "python",
   "pygments_lexer": "ipython3",
   "version": "3.7.4"
  }
 },
 "nbformat": 4,
 "nbformat_minor": 4
}
