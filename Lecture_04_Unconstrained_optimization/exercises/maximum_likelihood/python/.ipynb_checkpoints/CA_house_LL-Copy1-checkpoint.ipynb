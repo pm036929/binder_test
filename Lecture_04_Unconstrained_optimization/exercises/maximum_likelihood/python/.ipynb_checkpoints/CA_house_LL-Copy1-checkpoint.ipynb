{
 "cells": [
  {
   "cell_type": "code",
   "execution_count": 1,
   "metadata": {},
   "outputs": [],
   "source": [
    "import numpy as np"
   ]
  },
  {
   "cell_type": "code",
   "execution_count": 2,
   "metadata": {},
   "outputs": [],
   "source": [
    "import pandas as pd\n",
    "from scipy import optimize as opt\n",
    "import time"
   ]
  },
  {
   "cell_type": "code",
   "execution_count": 3,
   "metadata": {},
   "outputs": [],
   "source": [
    "ca_houses = pd.read_csv(\"data_CA_houses.txt\", delimiter=\"\\t\")\n",
    "ca_houses.set_index(\"ID case\", inplace=True)"
   ]
  },
  {
   "cell_type": "code",
   "execution_count": 4,
   "metadata": {},
   "outputs": [
    {
     "data": {
      "text/plain": [
       "Index(['depvar', 'ic1', 'ic2', 'ic3', 'ic4', 'ic5', 'oc1', 'oc2', 'oc3', 'oc4',\n",
       "       'oc5', 'income', 'agehed', 'rooms', 'ncost1', 'scost1', 'mountn',\n",
       "       'valley'],\n",
       "      dtype='object')"
      ]
     },
     "execution_count": 4,
     "metadata": {},
     "output_type": "execute_result"
    }
   ],
   "source": [
    "ca_houses.columns"
   ]
  },
  {
   "cell_type": "code",
   "execution_count": 5,
   "metadata": {},
   "outputs": [],
   "source": [
    "# Slice matrix ca_houses and insert into x (R ^(900x5x2))\n",
    "#   x(i, j, k)        i selects IDCASE, j selects heating solution, k IC/OC \n",
    "x = np.zeros((900, 5, 2));\n",
    "\n",
    "x[:, :, 0] = ca_houses.loc[:,\"ic1\":\"ic5\"]\n",
    "x[:, :, 1] = ca_houses.loc[:,\"oc1\":\"oc5\"]\n",
    "y = np.array(ca_houses[\"depvar\"])  #y in R^(900)"
   ]
  },
  {
   "cell_type": "code",
   "execution_count": 6,
   "metadata": {},
   "outputs": [],
   "source": [
    "def log_likelihood(beta, x, y):\n",
    "\n",
    "    beta_n  = np.dot(x,beta)  # beta * costs of all heating solutions\n",
    "    betay   = np.dot(x[np.arange(x.shape[0]),y-1,:],beta.T)  # beta * costs of chosen heating solution\n",
    "    log_prob = 1-np.log(np.sum(np.exp(beta_n-np.tile(betay.reshape(-1, 1), (5))), axis=1))\n",
    "\n",
    "    return -np.sum(log_prob) #negated for minimization"
   ]
  },
  {
   "cell_type": "code",
   "execution_count": 7,
   "metadata": {},
   "outputs": [
    {
     "name": "stdout",
     "output_type": "stream",
     "text": [
      "Nelder-Mead\n",
      "Solution:  [-0.00623187 -0.00458008]\n",
      "time : 0.098 seconds  function evaluations: 128 jacobian evaluations: N/A\n",
      "CG\n",
      "Solution:  [-0.00623188 -0.00458009]\n",
      "time : 0.208 seconds  function evaluations: 348 jacobian evaluations: 84\n",
      "BFGS\n",
      "Solution:  [-0.00623188 -0.00458009]\n",
      "time : 0.269 seconds  function evaluations: 324 jacobian evaluations: 78\n"
     ]
    }
   ],
   "source": [
    "x_0 = np.zeros(2)-0.2\n",
    "\n",
    "methods = [\"Nelder-Mead\",\"CG\",\"BFGS\"]\n",
    "\n",
    "for solver in methods:\n",
    "    tic = time.time()\n",
    "    solution = opt.minimize(log_likelihood, x_0, args = (x,y), method = solver, tol = 1e-8)\n",
    "    toc = time.time()\n",
    "    print(solver)\n",
    "    print(\"Solution: \", solution.x)\n",
    "    try:\n",
    "        jac_evals = solution.njev\n",
    "    except:\n",
    "        jac_evals = \"N/A\"\n",
    "    print(\"time :\", round(toc-tic,3), \"seconds  function evaluations:\", solution.nfev, \"jacobian evaluations:\", jac_evals)"
   ]
  }
 ],
 "metadata": {
  "kernelspec": {
   "display_name": "Python 3",
   "language": "python",
   "name": "python3"
  },
  "language_info": {
   "codemirror_mode": {
    "name": "ipython",
    "version": 3
   },
   "file_extension": ".py",
   "mimetype": "text/x-python",
   "name": "python",
   "nbconvert_exporter": "python",
   "pygments_lexer": "ipython3",
   "version": "3.7.4"
  }
 },
 "nbformat": 4,
 "nbformat_minor": 4
}
