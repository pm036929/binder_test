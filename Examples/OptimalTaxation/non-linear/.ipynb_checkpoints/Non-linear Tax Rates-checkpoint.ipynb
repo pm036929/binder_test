{
 "cells": [
  {
   "cell_type": "code",
   "execution_count": 4,
   "metadata": {},
   "outputs": [],
   "source": [
    "import numpy as np\n",
    "import casadi as cas\n",
    "from casadi import SX"
   ]
  },
  {
   "cell_type": "code",
   "execution_count": 5,
   "metadata": {},
   "outputs": [],
   "source": [
    "import plotly\n",
    "#print(plotly.__version__)\n",
    "import plotly.graph_objs as go\n",
    "from ipywidgets import widgets"
   ]
  },
  {
   "cell_type": "code",
   "execution_count": 53,
   "metadata": {},
   "outputs": [],
   "source": [
    "n_brackets = 4\n",
    "tax0 = -5\n",
    "bracket = np.array([0, 10, 20, 50, 100])   # bracket boundaries"
   ]
  },
  {
   "cell_type": "code",
   "execution_count": 54,
   "metadata": {},
   "outputs": [],
   "source": [
    "t = np.array([0, 1/10, 6/10, 1/10])"
   ]
  },
  {
   "cell_type": "code",
   "execution_count": 55,
   "metadata": {},
   "outputs": [],
   "source": [
    "taxpt = np.zeros(n_brackets)\n",
    "taxpt[0] = tax0\n",
    "for i in range(1, n_brackets):\n",
    "    taxpt[i] = taxpt[i-1] + t[i-1] * (bracket[i] - bracket[i - 1])"
   ]
  },
  {
   "cell_type": "code",
   "execution_count": null,
   "metadata": {},
   "outputs": [],
   "source": []
  },
  {
   "cell_type": "code",
   "execution_count": 56,
   "metadata": {},
   "outputs": [],
   "source": [
    "def taxes(bracket, t, taxpt, yinc):\n",
    "    \n",
    "    u_bound_index = np.argmin(bracket <= yinc)\n",
    "    l_bound_index = np.argmax(bracket > yinc) - 1 \n",
    "    \n",
    "    res = taxpt[l_bound_index] + t[l_bound_index] * (yinc - bracket[l_bound_index])\n",
    "    return res\n",
    "    "
   ]
  },
  {
   "cell_type": "code",
   "execution_count": null,
   "metadata": {},
   "outputs": [],
   "source": []
  },
  {
   "cell_type": "code",
   "execution_count": 58,
   "metadata": {},
   "outputs": [
    {
     "data": {
      "text/plain": [
       "array([-5.])"
      ]
     },
     "execution_count": 58,
     "metadata": {},
     "output_type": "execute_result"
    }
   ],
   "source": [
    "taxes(bracket, t, taxpt, [10])"
   ]
  },
  {
   "cell_type": "code",
   "execution_count": 63,
   "metadata": {},
   "outputs": [
    {
     "data": {
      "application/vnd.jupyter.widget-view+json": {
       "model_id": "2e7b63c6d803424499dcce5a2a7ba8cb",
       "version_major": 2,
       "version_minor": 0
      },
      "text/plain": [
       "HBox(children=(FigureWidget({\n",
       "    'data': [{'type': 'scatter',\n",
       "              'uid': '52d7e4ce-4050-4661-9efc-e…"
      ]
     },
     "metadata": {},
     "output_type": "display_data"
    }
   ],
   "source": [
    "y_incomes = np.arange(80)\n",
    "results = np.array([taxes(bracket, t, taxpt, income) for income in y_incomes])\n",
    "\n",
    "tax_plot = go.FigureWidget(data=\n",
    "    [dict(x = y_incomes,\n",
    "    y = results, type='scatter') ]\n",
    ")\n",
    "tax_plot.layout.title = 'Tax (income)'\n",
    "income_plot = go.FigureWidget(data=\n",
    "    [dict(x = y_incomes,\n",
    "    y = y_incomes - results, type='scatter') ]\n",
    ")\n",
    "income_plot.layout.title = 'Income - tax (income)'\n",
    "widgets.HBox([tax_plot, income_plot])"
   ]
  },
  {
   "cell_type": "code",
   "execution_count": 223,
   "metadata": {},
   "outputs": [],
   "source": [
    "def utility(consumption, consumption_b, labour, labour_b, eta, gamma):\n",
    "    B = 1/10\n",
    "    util = 100 * ((consumption-consumption_b)**(1-gamma)/(1-gamma) - \n",
    "                  B*(labour+labour_b)**(1+eta)/(1+eta) + 1)\n",
    "    # WHY + 1????\n",
    "    return util"
   ]
  },
  {
   "cell_type": "code",
   "execution_count": 224,
   "metadata": {},
   "outputs": [],
   "source": [
    "# define casadi type symbolic variables\n",
    "consumption = SX.sym('consumption', n_brackets, 1)\n",
    "labour = SX.sym('labour', n_brackets, 1)\n",
    "p = SX.sym('p', n_brackets, 1)\n",
    "yincs = SX.sym('yincs', n_brackets, 1)\n"
   ]
  },
  {
   "cell_type": "code",
   "execution_count": 225,
   "metadata": {},
   "outputs": [],
   "source": [
    "eta = 1\n",
    "gamma=2\n",
    "wage = 100\n",
    "consumption_b = 1\n",
    "labour_b = 0"
   ]
  },
  {
   "cell_type": "code",
   "execution_count": 226,
   "metadata": {},
   "outputs": [],
   "source": [
    "# define objective function\n",
    "objective = (p.T @ utility(consumption, consumption_b, labour, labour_b, eta, gamma))"
   ]
  },
  {
   "cell_type": "code",
   "execution_count": null,
   "metadata": {},
   "outputs": [],
   "source": []
  },
  {
   "cell_type": "code",
   "execution_count": 244,
   "metadata": {},
   "outputs": [],
   "source": [
    "## define bounds\n",
    "#  lower bounds\n",
    "c_lb = np.full(n_brackets, 0.0001 + consumption_b)\n",
    "l_lb = np.full(n_brackets, 0.0001 + labour_b)\n",
    "p_lb = np.full(n_brackets, 0.0001 )\n",
    "yin_lb = bracket[0:4]\n",
    "\n",
    "\n",
    "#  upper bounds\n",
    "\n",
    "c_ub = np.full(n_brackets, np.inf)\n",
    "l_ub = np.full(n_brackets, np.inf)\n",
    "p_ub = np.full(n_brackets, 1 )\n",
    "#p_ub = np.ones(n_brackets)\n",
    "yin_ub = bracket[1:5]"
   ]
  },
  {
   "cell_type": "code",
   "execution_count": 245,
   "metadata": {},
   "outputs": [
    {
     "data": {
      "text/plain": [
       "array([ 0, 10, 20, 50])"
      ]
     },
     "execution_count": 245,
     "metadata": {},
     "output_type": "execute_result"
    }
   ],
   "source": [
    "bracket[0:4]"
   ]
  },
  {
   "cell_type": "code",
   "execution_count": 246,
   "metadata": {},
   "outputs": [],
   "source": [
    "def budget_constraint(bracket, yinc, t, n_brackets, consumption):\n",
    "    constraints = cas.SX.zeros(n_brackets, 1)\n",
    "    for i in range(n_brackets):\n",
    "        temp_con = -tax0 + yinc[i] - t[i] * (yinc[i] - bracket[i]) \n",
    "        for j in range(i):\n",
    "            temp_con = temp_con - (bracket[i-j] - bracket[i-j-1]) * t[i-j-1]\n",
    "        constraints[i] = (temp_con)\n",
    "    constraints = constraints - consumption \n",
    "    return constraints\n",
    "    #cons_1 = - tax0  + yinc[0] - t[0] * (yinc[0] - bracket[0])\n",
    "    #cons_2 = - tax0  + yinc[1] - (bracket[1] - bracket[0]) * t[0] \\\n",
    "    #                 - t[1] * (yinc[1] - bracket[1])\n",
    "    #cons_2 = - tax0  + yinc[1] - (bracket[1] - bracket[0]) * t[0] \\\n",
    "    #                 - t[1] * (yinc[1] - bracket[1])\n",
    "    "
   ]
  },
  {
   "cell_type": "code",
   "execution_count": 247,
   "metadata": {},
   "outputs": [],
   "source": [
    "def asset_constraint(yinc, labour, wage):\n",
    "    constraints = wage * labour - yinc\n",
    "\n",
    "    return constraints\n",
    "    #cons_1 = - tax0  + yinc[0] - t[0] * (yinc[0] - bracket[0])\n",
    "    #cons_2 = - tax0  + yinc[1] - (bracket[1] - bracket[0]) * t[0] \\\n",
    "    #                 - t[1] * (yinc[1] - bracket[1])\n",
    "    #cons_2 = - tax0  + yinc[1] - (bracket[1] - bracket[0]) * t[0] \\\n",
    "    #                 - t[1] * (yinc[1] - bracket[1])\n",
    "    "
   ]
  },
  {
   "cell_type": "code",
   "execution_count": 248,
   "metadata": {},
   "outputs": [],
   "source": [
    "# probability constraint \n",
    "p_constraint = cas.sum1(p) - 1"
   ]
  },
  {
   "cell_type": "code",
   "execution_count": 249,
   "metadata": {},
   "outputs": [
    {
     "data": {
      "text/plain": [
       "SX(@1=5, @2=0.1, @3=1, [((@1+yincs_0)-consumption_0), (((@1+yincs_1)-(@2*(yincs_1-10)))-consumption_1), ((((@1+yincs_2)-(0.6*(yincs_2-20)))-@3)-consumption_2), (((((@1+yincs_3)-(@2*(yincs_3-50)))-18)-@3)-consumption_3)])"
      ]
     },
     "execution_count": 249,
     "metadata": {},
     "output_type": "execute_result"
    }
   ],
   "source": [
    "## define constraints\n",
    "# Budget constraint\n",
    "\n",
    "budget_constraint(bracket, yincs, t, n_brackets, consumption)\n",
    "#asset_constraint(yinc, labour, wage)\n",
    "#p_constraint"
   ]
  },
  {
   "cell_type": "code",
   "execution_count": 250,
   "metadata": {},
   "outputs": [
    {
     "data": {
      "text/plain": [
       "SX([consumption_0, consumption_1, consumption_2, consumption_3])"
      ]
     },
     "execution_count": 250,
     "metadata": {},
     "output_type": "execute_result"
    }
   ],
   "source": [
    "consumption"
   ]
  },
  {
   "cell_type": "code",
   "execution_count": 251,
   "metadata": {},
   "outputs": [],
   "source": [
    "# penalty for case that both are similar\n",
    "penalty = 0.001 * (p @ p.T)"
   ]
  },
  {
   "cell_type": "code",
   "execution_count": 252,
   "metadata": {},
   "outputs": [],
   "source": [
    "penalty = 0.001*(sum([p[i]*p[j]  for i in range(n_brackets - 1) \n",
    "                for j in range(i + 1, n_brackets)]) \n",
    "           + p[1] + 2 * p[2] + 3 * p[3])"
   ]
  },
  {
   "cell_type": "code",
   "execution_count": 253,
   "metadata": {},
   "outputs": [],
   "source": [
    "#penalty = 0 * p[0]\n",
    "#for i in range(n_brackets - 1):\n",
    "#    for j in range(i + 1, n_brackets):\n",
    "#        penalty = penalty + p[i]*p[j]     \n",
    "\n",
    "#penalty = penalty + p[1] + 2 * p[2] + 3 * p[3]"
   ]
  },
  {
   "cell_type": "code",
   "execution_count": 254,
   "metadata": {},
   "outputs": [],
   "source": [
    "opt_objpen = objective - penalty"
   ]
  },
  {
   "cell_type": "code",
   "execution_count": 255,
   "metadata": {},
   "outputs": [
    {
     "data": {
      "text/plain": [
       "SX((0.001*(((((((((p_0*p_1)+(p_0*p_2))+(p_0*p_3))+(p_1*p_2))+(p_1*p_3))+(p_2*p_3))+p_1)+(2*p_2))+(3*p_3))))"
      ]
     },
     "execution_count": 255,
     "metadata": {},
     "output_type": "execute_result"
    }
   ],
   "source": [
    "penalty"
   ]
  },
  {
   "cell_type": "code",
   "execution_count": 256,
   "metadata": {},
   "outputs": [],
   "source": [
    "# NLP definition = Our optimization problem\n",
    "nlp = {'x': cas.vertcat(consumption, labour, p, yincs),\n",
    "       'f': -opt_objpen,\n",
    "       'g': cas.vertcat(budget_constraint(bracket, yincs, t, n_brackets, consumption),\n",
    "                        asset_constraint(yincs, labour, wage),\n",
    "                        p_constraint)\n",
    "      }\n",
    "\n",
    "#  solver_opt = {'verbose': False, 'print_time': False, 'ipopt': {'print_level': 5,\n",
    "#                                                               'tol': 1E-12, 'constr_viol_tol': 1E-12}}\n",
    "#  solver_opt = dict(qpsol='qrqp', qpsol_options=dict(print_iter=False, tol=1e-16), print_time=False)\n",
    "\n",
    "# creating casadi optimization object\n",
    "#solver_opt = dict(qpsol='qrqp', hessian_approximation='exact', min_step_size=0,\n",
    "#                  print_header=False, print_iteration=True, print_status=True,\n",
    "#                  qpsol_options=dict(print_iter=False, jit=True, tol=1E-10), print_time=False, max_iter=200)\n",
    "#S = cas.nlpsol(\"S\", \"sqpmethod\", nlp, solver_opt)\n",
    "solver_opt = {'ipopt': {'print_level': 5,'tol': 1E-11, 'constr_viol_tol': 1E-11}}\n",
    "\n",
    "S = cas.nlpsol(\"S\", \"ipopt\", nlp, solver_opt)\n"
   ]
  },
  {
   "cell_type": "code",
   "execution_count": 257,
   "metadata": {},
   "outputs": [
    {
     "name": "stdout",
     "output_type": "stream",
     "text": [
      "This is Ipopt version 3.12.3, running with linear solver mumps.\n",
      "NOTE: Other linear solvers might be more efficient (see Ipopt documentation).\n",
      "\n",
      "Number of nonzeros in equality constraint Jacobian...:       20\n",
      "Number of nonzeros in inequality constraint Jacobian.:        0\n",
      "Number of nonzeros in Lagrangian Hessian.............:       22\n",
      "\n",
      "Total number of variables............................:       16\n",
      "                     variables with only lower bounds:        8\n",
      "                variables with lower and upper bounds:        8\n",
      "                     variables with only upper bounds:        0\n",
      "Total number of equality constraints.................:        9\n",
      "Total number of inequality constraints...............:        0\n",
      "        inequality constraints with only lower bounds:        0\n",
      "   inequality constraints with lower and upper bounds:        0\n",
      "        inequality constraints with only upper bounds:        0\n",
      "\n",
      "iter    objective    inf_pr   inf_du lg(mu)  ||d||  lg(rg) alpha_du alpha_pr  ls\n",
      "   0 1.9760821e+005 9.99e+003 5.00e-001  -1.0 0.00e+000    -  0.00e+000 0.00e+000   0\n",
      "   1 -8.8920694e+001 9.01e+001 1.12e+002  -1.0 9.99e+001    -  1.51e-002 9.91e-001f  1\n",
      "   2 -9.4455564e+001 1.42e-014 5.96e-003  -1.0 9.02e-001    -  9.94e-001 1.00e+000h  1\n",
      "   3 -9.4447567e+001 1.42e-014 1.35e-006  -1.7 1.01e+000    -  1.00e+000 1.00e+000f  1\n",
      "   4 -9.4453501e+001 1.42e-014 4.41e-006  -2.5 2.21e+000    -  1.00e+000 1.00e+000f  1\n",
      "   5 -9.4606917e+001 1.11e-016 2.06e-003  -3.8 1.30e+000    -  9.42e-001 1.00e+000f  1\n",
      "   6 -9.5615227e+001 7.11e-015 4.32e-005  -3.8 4.33e-001  -4.0 1.00e+000 1.00e+000f  1\n",
      "   7 -9.5827410e+001 1.11e-016 2.78e-004  -5.7 6.58e-001    -  8.39e-001 1.00e+000f  1\n",
      "   8 -9.5965760e+001 1.42e-014 8.97e-005  -5.7 5.90e+000    -  7.33e-001 9.43e-001f  1\n",
      "   9 -9.5964778e+001 1.42e-014 2.58e-006  -5.7 1.91e+000    -  9.94e-001 1.00e+000f  1\n",
      "iter    objective    inf_pr   inf_du lg(mu)  ||d||  lg(rg) alpha_du alpha_pr  ls\n",
      "  10 -9.5972208e+001 1.42e-014 2.07e-007  -8.6 6.66e-003  -4.5 9.95e-001 9.97e-001f  1\n",
      "  11 -9.5972377e+001 7.11e-015 2.92e-004  -8.6 4.19e+001    -  1.90e-001 3.39e-001f  1\n",
      "  12 -9.5972445e+001 7.11e-015 5.05e-005  -8.6 2.94e+001    -  4.90e-001 8.47e-001f  1\n",
      "  13 -9.5972437e+001 1.42e-014 7.83e-005  -8.6 1.43e+002    -  2.11e-002 3.75e-002f  4\n",
      "  14 -9.5972445e+001 7.11e-015 2.24e-005  -8.6 3.29e+000    -  9.21e-001 8.72e-001h  1\n",
      "  15 -9.5972449e+001 1.42e-014 9.95e-006  -8.6 1.57e-001    -  1.00e+000 2.91e-001f  2\n",
      "  16 -9.5972448e+001 7.11e-015 7.40e-007  -8.6 6.50e-001    -  1.00e+000 1.00e+000h  1\n",
      "  17 -9.5972448e+001 7.11e-015 1.45e-008  -8.6 9.21e-002    -  1.00e+000 1.00e+000h  1\n",
      "  18 -9.5972459e+001 7.11e-015 3.08e-006 -12.0 1.40e-001    -  9.86e-001 8.41e-001h  1\n",
      "  19 -9.5972461e+001 7.11e-015 2.52e-007 -12.0 3.82e-001    -  1.00e+000 1.00e+000f  1\n",
      "iter    objective    inf_pr   inf_du lg(mu)  ||d||  lg(rg) alpha_du alpha_pr  ls\n",
      "  20 -9.5972461e+001 7.11e-015 2.84e-012 -12.0 1.27e-003    -  1.00e+000 1.00e+000h  1\n",
      "\n",
      "Number of Iterations....: 20\n",
      "\n",
      "                                   (scaled)                 (unscaled)\n",
      "Objective...............: -9.5972461208357993e-002  -9.5972461208357984e+001\n",
      "Dual infeasibility......:  2.8400865053337913e-012   2.8400865053337913e-009\n",
      "Constraint violation....:  7.1054273576010019e-015   7.1054273576010019e-015\n",
      "Complementarity.........:  9.0912733541505064e-013   9.0912733541505065e-010\n",
      "Overall NLP error.......:  2.8400865053337913e-012   2.8400865053337913e-009\n",
      "\n",
      "\n",
      "Number of objective function evaluations             = 25\n",
      "Number of objective gradient evaluations             = 21\n",
      "Number of equality constraint evaluations            = 25\n",
      "Number of inequality constraint evaluations          = 0\n",
      "Number of equality constraint Jacobian evaluations   = 21\n",
      "Number of inequality constraint Jacobian evaluations = 0\n",
      "Number of Lagrangian Hessian evaluations             = 20\n",
      "Total CPU secs in IPOPT (w/o function evaluations)   =      0.018\n",
      "Total CPU secs in NLP function evaluations           =      0.000\n",
      "\n",
      "EXIT: Optimal Solution Found.\n",
      "               t_proc [s]   t_wall [s]    n_eval\n",
      "           S        0.018       0.0181         1\n",
      "       nlp_f            0            0        25\n",
      "       nlp_g            0            0        25\n",
      "  nlp_grad_f            0            0        22\n",
      "  nlp_hess_l            0            0        20\n",
      "   nlp_jac_g            0            0        22\n"
     ]
    }
   ],
   "source": [
    "res = S(x0=100, lbg=0, ubg=0, lbx=np.concatenate([c_lb, l_lb, p_lb, yin_lb]), ubx=np.concatenate([c_ub, l_ub, p_ub, yin_ub]))"
   ]
  },
  {
   "cell_type": "code",
   "execution_count": 258,
   "metadata": {},
   "outputs": [
    {
     "data": {
      "text/plain": [
       "DM([15, 23.9999, 32.3155, 41.1783, 0.0999998, 0.199999, 0.407888, 0.557536, 0.0001, 0.0001, 0.9997, 0.000100035, 9.99998, 19.9999, 40.7888, 55.7536])"
      ]
     },
     "execution_count": 258,
     "metadata": {},
     "output_type": "execute_result"
    }
   ],
   "source": [
    "res['x']"
   ]
  },
  {
   "cell_type": "code",
   "execution_count": 259,
   "metadata": {},
   "outputs": [
    {
     "data": {
      "text/plain": [
       "array([[1.49999819e+01],\n",
       "       [2.39999457e+01],\n",
       "       [3.23155165e+01],\n",
       "       [4.11782836e+01],\n",
       "       [9.99998192e-02],\n",
       "       [1.99999396e-01],\n",
       "       [4.07887911e-01],\n",
       "       [5.57536484e-01],\n",
       "       [1.00000000e-04],\n",
       "       [1.00000000e-04],\n",
       "       [9.99699983e-01],\n",
       "       [1.00035452e-04],\n",
       "       [9.99998192e+00],\n",
       "       [1.99999396e+01],\n",
       "       [4.07887911e+01],\n",
       "       [5.57536484e+01]])"
      ]
     },
     "execution_count": 259,
     "metadata": {},
     "output_type": "execute_result"
    }
   ],
   "source": [
    "result = res['x'].full()\n",
    "result"
   ]
  },
  {
   "cell_type": "code",
   "execution_count": 260,
   "metadata": {},
   "outputs": [
    {
     "name": "stdout",
     "output_type": "stream",
     "text": [
      "[92.80713382]\n",
      "[95.45216485]\n",
      "[95.97483211]\n",
      "[95.95685862]\n"
     ]
    }
   ],
   "source": [
    "consumption_r = result[0:4]\n",
    "labour_r = result[4:8]\n",
    "yincs_r = result[-4:]\n",
    "\n",
    "for i in range(4):\n",
    "    print(utility(consumption_r[i], consumption_b, labour_r[i], labour_b, eta, gamma))\n"
   ]
  },
  {
   "cell_type": "code",
   "execution_count": 261,
   "metadata": {},
   "outputs": [
    {
     "data": {
      "text/plain": [
       "array([[ 9.99998192],\n",
       "       [19.99993965],\n",
       "       [40.78879113],\n",
       "       [55.75364841]])"
      ]
     },
     "execution_count": 261,
     "metadata": {},
     "output_type": "execute_result"
    }
   ],
   "source": [
    "labour_r *100\n"
   ]
  },
  {
   "cell_type": "code",
   "execution_count": 262,
   "metadata": {},
   "outputs": [
    {
     "data": {
      "text/plain": [
       "array([[ 9.99998192],\n",
       "       [19.99993965],\n",
       "       [40.78879113],\n",
       "       [55.75364841]])"
      ]
     },
     "execution_count": 262,
     "metadata": {},
     "output_type": "execute_result"
    }
   ],
   "source": [
    "yincs_r"
   ]
  },
  {
   "cell_type": "code",
   "execution_count": null,
   "metadata": {},
   "outputs": [],
   "source": []
  }
 ],
 "metadata": {
  "kernelspec": {
   "display_name": "Python 3",
   "language": "python",
   "name": "python3"
  }
 },
 "nbformat": 4,
 "nbformat_minor": 2
}
